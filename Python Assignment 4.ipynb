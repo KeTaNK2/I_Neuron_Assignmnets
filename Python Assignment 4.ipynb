{
 "cells": [
  {
   "cell_type": "markdown",
   "metadata": {},
   "source": [
    "# 1\n"
   ]
  },
  {
   "cell_type": "code",
   "execution_count": 34,
   "metadata": {},
   "outputs": [
    {
     "name": "stdout",
     "output_type": "stream",
     "text": [
      "ENter a:5\n",
      "5\n"
     ]
    }
   ],
   "source": [
    "class Area_tri :\n",
    "    def __init__(self,Info) :\n",
    "        self.sides=Info\n",
    "    def Area(self) :\n",
    "        return self.sides.a\n",
    "class Get_sides :\n",
    "    def __init__(self):\n",
    "        self.a=input(\"ENter a:\")\n",
    "        self.b=input(\"Enter b:\")\n",
    "        self.c=input(\"Enter c:\")\n",
    "test=Get_sides()\n",
    "test2=Area_tri(test)\n",
    "print(test2.Area())"
   ]
  },
  {
   "cell_type": "markdown",
   "metadata": {},
   "source": [
    "# 2"
   ]
  },
  {
   "cell_type": "code",
   "execution_count": 24,
   "metadata": {},
   "outputs": [
    {
     "name": "stdout",
     "output_type": "stream",
     "text": [
      "<__main__.Area_tri object at 0x0000021E91501978>\n"
     ]
    }
   ],
   "source": [
    "print(test2)"
   ]
  },
  {
   "cell_type": "code",
   "execution_count": 5,
   "metadata": {},
   "outputs": [],
   "source": [
    "def filter_long_words(words,n) :\n",
    "    def iflong(x):\n",
    "        if len(x) > n :\n",
    "            return True\n",
    "    lwo=list(filter(iflong,words))\n",
    "    return lwo\n",
    "    "
   ]
  },
  {
   "cell_type": "code",
   "execution_count": 6,
   "metadata": {},
   "outputs": [
    {
     "data": {
      "text/plain": [
       "['wcwecsa', 'vrdsc']"
      ]
     },
     "execution_count": 6,
     "metadata": {},
     "output_type": "execute_result"
    }
   ],
   "source": [
    "filter_long_words(['wcec','wcwecsa','aef','vrdsc'],4)"
   ]
  },
  {
   "cell_type": "code",
   "execution_count": null,
   "metadata": {},
   "outputs": [],
   "source": []
  }
 ],
 "metadata": {
  "kernelspec": {
   "display_name": "Python 3",
   "language": "python",
   "name": "python3"
  },
  "language_info": {
   "codemirror_mode": {
    "name": "ipython",
    "version": 3
   },
   "file_extension": ".py",
   "mimetype": "text/x-python",
   "name": "python",
   "nbconvert_exporter": "python",
   "pygments_lexer": "ipython3",
   "version": "3.7.3"
  }
 },
 "nbformat": 4,
 "nbformat_minor": 2
}
