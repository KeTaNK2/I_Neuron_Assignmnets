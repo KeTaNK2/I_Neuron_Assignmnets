{
 "cells": [
  {
   "cell_type": "code",
   "execution_count": 176,
   "metadata": {},
   "outputs": [],
   "source": [
    "import numpy as np\n",
    "import pandas as pd\n",
    "import seaborn as sns\n",
    "sns.set()\n",
    "from sklearn.preprocessing import LabelEncoder,OneHotEncoder\n",
    "labelencoder = LabelEncoder()\n",
    "oneHotEncoder = OneHotEncoder()\n",
    "import numpy as np\n",
    "import xgboost as xgb\n",
    "import pickle\n",
    "from sklearn import datasets\n",
    "from xgboost import XGBClassifier\n",
    "from sklearn.metrics import accuracy_score"
   ]
  },
  {
   "cell_type": "code",
   "execution_count": 116,
   "metadata": {},
   "outputs": [],
   "source": [
    "train_set = pd.read_csv('http://archive.ics.uci.edu/ml/machine-learning-databases/adult/adult.data', header = None)\n",
    "test_set = pd.read_csv('http://archive.ics.uci.edu/ml/machine-learning-databases/adult/adult.test' , skiprows = 1, header = None)"
   ]
  },
  {
   "cell_type": "code",
   "execution_count": 117,
   "metadata": {},
   "outputs": [],
   "source": [
    "col_labels = ['age', 'workclass', 'fnlwgt', 'education', 'education_num',\n",
    "                'marital_status', 'occupation','relationship', 'race', 'sex', 'capital_gain',\n",
    "                'capital_loss', 'hours_per_week', 'native_country', 'wage_class']\n",
    "train_set.columns = col_labels\n",
    "test_set.columns = col_labels"
   ]
  },
  {
   "cell_type": "code",
   "execution_count": 118,
   "metadata": {},
   "outputs": [],
   "source": [
    "test_set.columns = col_labels"
   ]
  },
  {
   "cell_type": "code",
   "execution_count": 134,
   "metadata": {},
   "outputs": [],
   "source": [
    "test_set = test_set.drop(columns=['education'])\n",
    "train_set = train_set.drop(columns=['education'])"
   ]
  },
  {
   "cell_type": "code",
   "execution_count": 154,
   "metadata": {},
   "outputs": [
    {
     "data": {
      "text/html": [
       "<div>\n",
       "<style scoped>\n",
       "    .dataframe tbody tr th:only-of-type {\n",
       "        vertical-align: middle;\n",
       "    }\n",
       "\n",
       "    .dataframe tbody tr th {\n",
       "        vertical-align: top;\n",
       "    }\n",
       "\n",
       "    .dataframe thead th {\n",
       "        text-align: right;\n",
       "    }\n",
       "</style>\n",
       "<table border=\"1\" class=\"dataframe\">\n",
       "  <thead>\n",
       "    <tr style=\"text-align: right;\">\n",
       "      <th></th>\n",
       "      <th>age</th>\n",
       "      <th>workclass</th>\n",
       "      <th>fnlwgt</th>\n",
       "      <th>education_num</th>\n",
       "      <th>marital_status</th>\n",
       "      <th>occupation</th>\n",
       "      <th>relationship</th>\n",
       "      <th>race</th>\n",
       "      <th>sex</th>\n",
       "      <th>capital_gain</th>\n",
       "      <th>capital_loss</th>\n",
       "      <th>hours_per_week</th>\n",
       "      <th>native_country</th>\n",
       "      <th>wage_class</th>\n",
       "    </tr>\n",
       "  </thead>\n",
       "  <tbody>\n",
       "    <tr>\n",
       "      <th>0</th>\n",
       "      <td>39</td>\n",
       "      <td>State-gov</td>\n",
       "      <td>77516</td>\n",
       "      <td>13</td>\n",
       "      <td>Never-married</td>\n",
       "      <td>Adm-clerical</td>\n",
       "      <td>Not-in-family</td>\n",
       "      <td>White</td>\n",
       "      <td>Male</td>\n",
       "      <td>2174</td>\n",
       "      <td>0</td>\n",
       "      <td>40</td>\n",
       "      <td>United-States</td>\n",
       "      <td>1</td>\n",
       "    </tr>\n",
       "    <tr>\n",
       "      <th>1</th>\n",
       "      <td>50</td>\n",
       "      <td>Self-emp-not-inc</td>\n",
       "      <td>83311</td>\n",
       "      <td>13</td>\n",
       "      <td>Married-civ-spouse</td>\n",
       "      <td>Exec-managerial</td>\n",
       "      <td>Husband</td>\n",
       "      <td>White</td>\n",
       "      <td>Male</td>\n",
       "      <td>0</td>\n",
       "      <td>0</td>\n",
       "      <td>13</td>\n",
       "      <td>United-States</td>\n",
       "      <td>1</td>\n",
       "    </tr>\n",
       "    <tr>\n",
       "      <th>2</th>\n",
       "      <td>38</td>\n",
       "      <td>Private</td>\n",
       "      <td>215646</td>\n",
       "      <td>9</td>\n",
       "      <td>Divorced</td>\n",
       "      <td>Handlers-cleaners</td>\n",
       "      <td>Not-in-family</td>\n",
       "      <td>White</td>\n",
       "      <td>Male</td>\n",
       "      <td>0</td>\n",
       "      <td>0</td>\n",
       "      <td>40</td>\n",
       "      <td>United-States</td>\n",
       "      <td>1</td>\n",
       "    </tr>\n",
       "    <tr>\n",
       "      <th>3</th>\n",
       "      <td>53</td>\n",
       "      <td>Private</td>\n",
       "      <td>234721</td>\n",
       "      <td>7</td>\n",
       "      <td>Married-civ-spouse</td>\n",
       "      <td>Handlers-cleaners</td>\n",
       "      <td>Husband</td>\n",
       "      <td>Black</td>\n",
       "      <td>Male</td>\n",
       "      <td>0</td>\n",
       "      <td>0</td>\n",
       "      <td>40</td>\n",
       "      <td>United-States</td>\n",
       "      <td>1</td>\n",
       "    </tr>\n",
       "    <tr>\n",
       "      <th>4</th>\n",
       "      <td>28</td>\n",
       "      <td>Private</td>\n",
       "      <td>338409</td>\n",
       "      <td>13</td>\n",
       "      <td>Married-civ-spouse</td>\n",
       "      <td>Prof-specialty</td>\n",
       "      <td>Wife</td>\n",
       "      <td>Black</td>\n",
       "      <td>Female</td>\n",
       "      <td>0</td>\n",
       "      <td>0</td>\n",
       "      <td>40</td>\n",
       "      <td>Cuba</td>\n",
       "      <td>1</td>\n",
       "    </tr>\n",
       "  </tbody>\n",
       "</table>\n",
       "</div>"
      ],
      "text/plain": [
       "   age          workclass  fnlwgt  education_num       marital_status  \\\n",
       "0   39          State-gov   77516             13        Never-married   \n",
       "1   50   Self-emp-not-inc   83311             13   Married-civ-spouse   \n",
       "2   38            Private  215646              9             Divorced   \n",
       "3   53            Private  234721              7   Married-civ-spouse   \n",
       "4   28            Private  338409             13   Married-civ-spouse   \n",
       "\n",
       "           occupation    relationship    race      sex  capital_gain  \\\n",
       "0        Adm-clerical   Not-in-family   White     Male          2174   \n",
       "1     Exec-managerial         Husband   White     Male             0   \n",
       "2   Handlers-cleaners   Not-in-family   White     Male             0   \n",
       "3   Handlers-cleaners         Husband   Black     Male             0   \n",
       "4      Prof-specialty            Wife   Black   Female             0   \n",
       "\n",
       "   capital_loss  hours_per_week  native_country  wage_class  \n",
       "0             0              40   United-States           1  \n",
       "1             0              13   United-States           1  \n",
       "2             0              40   United-States           1  \n",
       "3             0              40   United-States           1  \n",
       "4             0              40            Cuba           1  "
      ]
     },
     "execution_count": 154,
     "metadata": {},
     "output_type": "execute_result"
    }
   ],
   "source": [
    "train_set.head()"
   ]
  },
  {
   "cell_type": "code",
   "execution_count": 158,
   "metadata": {},
   "outputs": [
    {
     "data": {
      "text/html": [
       "<div>\n",
       "<style scoped>\n",
       "    .dataframe tbody tr th:only-of-type {\n",
       "        vertical-align: middle;\n",
       "    }\n",
       "\n",
       "    .dataframe tbody tr th {\n",
       "        vertical-align: top;\n",
       "    }\n",
       "\n",
       "    .dataframe thead th {\n",
       "        text-align: right;\n",
       "    }\n",
       "</style>\n",
       "<table border=\"1\" class=\"dataframe\">\n",
       "  <thead>\n",
       "    <tr style=\"text-align: right;\">\n",
       "      <th></th>\n",
       "      <th>age</th>\n",
       "      <th>workclass</th>\n",
       "      <th>fnlwgt</th>\n",
       "      <th>education_num</th>\n",
       "      <th>marital_status</th>\n",
       "      <th>occupation</th>\n",
       "      <th>relationship</th>\n",
       "      <th>race</th>\n",
       "      <th>sex</th>\n",
       "      <th>capital_gain</th>\n",
       "      <th>capital_loss</th>\n",
       "      <th>hours_per_week</th>\n",
       "      <th>native_country</th>\n",
       "      <th>wage_class</th>\n",
       "    </tr>\n",
       "  </thead>\n",
       "  <tbody>\n",
       "    <tr>\n",
       "      <th>0</th>\n",
       "      <td>25</td>\n",
       "      <td>Private</td>\n",
       "      <td>226802</td>\n",
       "      <td>7</td>\n",
       "      <td>Never-married</td>\n",
       "      <td>Machine-op-inspct</td>\n",
       "      <td>Own-child</td>\n",
       "      <td>Black</td>\n",
       "      <td>Male</td>\n",
       "      <td>0</td>\n",
       "      <td>0</td>\n",
       "      <td>40</td>\n",
       "      <td>United-States</td>\n",
       "      <td>1</td>\n",
       "    </tr>\n",
       "    <tr>\n",
       "      <th>1</th>\n",
       "      <td>38</td>\n",
       "      <td>Private</td>\n",
       "      <td>89814</td>\n",
       "      <td>9</td>\n",
       "      <td>Married-civ-spouse</td>\n",
       "      <td>Farming-fishing</td>\n",
       "      <td>Husband</td>\n",
       "      <td>White</td>\n",
       "      <td>Male</td>\n",
       "      <td>0</td>\n",
       "      <td>0</td>\n",
       "      <td>50</td>\n",
       "      <td>United-States</td>\n",
       "      <td>1</td>\n",
       "    </tr>\n",
       "    <tr>\n",
       "      <th>2</th>\n",
       "      <td>28</td>\n",
       "      <td>Local-gov</td>\n",
       "      <td>336951</td>\n",
       "      <td>12</td>\n",
       "      <td>Married-civ-spouse</td>\n",
       "      <td>Protective-serv</td>\n",
       "      <td>Husband</td>\n",
       "      <td>White</td>\n",
       "      <td>Male</td>\n",
       "      <td>0</td>\n",
       "      <td>0</td>\n",
       "      <td>40</td>\n",
       "      <td>United-States</td>\n",
       "      <td>0</td>\n",
       "    </tr>\n",
       "    <tr>\n",
       "      <th>3</th>\n",
       "      <td>44</td>\n",
       "      <td>Private</td>\n",
       "      <td>160323</td>\n",
       "      <td>10</td>\n",
       "      <td>Married-civ-spouse</td>\n",
       "      <td>Machine-op-inspct</td>\n",
       "      <td>Husband</td>\n",
       "      <td>Black</td>\n",
       "      <td>Male</td>\n",
       "      <td>7688</td>\n",
       "      <td>0</td>\n",
       "      <td>40</td>\n",
       "      <td>United-States</td>\n",
       "      <td>0</td>\n",
       "    </tr>\n",
       "    <tr>\n",
       "      <th>5</th>\n",
       "      <td>34</td>\n",
       "      <td>Private</td>\n",
       "      <td>198693</td>\n",
       "      <td>6</td>\n",
       "      <td>Never-married</td>\n",
       "      <td>Other-service</td>\n",
       "      <td>Not-in-family</td>\n",
       "      <td>White</td>\n",
       "      <td>Male</td>\n",
       "      <td>0</td>\n",
       "      <td>0</td>\n",
       "      <td>30</td>\n",
       "      <td>United-States</td>\n",
       "      <td>1</td>\n",
       "    </tr>\n",
       "  </tbody>\n",
       "</table>\n",
       "</div>"
      ],
      "text/plain": [
       "   age   workclass  fnlwgt  education_num       marital_status  \\\n",
       "0   25     Private  226802              7        Never-married   \n",
       "1   38     Private   89814              9   Married-civ-spouse   \n",
       "2   28   Local-gov  336951             12   Married-civ-spouse   \n",
       "3   44     Private  160323             10   Married-civ-spouse   \n",
       "5   34     Private  198693              6        Never-married   \n",
       "\n",
       "           occupation    relationship    race    sex  capital_gain  \\\n",
       "0   Machine-op-inspct       Own-child   Black   Male             0   \n",
       "1     Farming-fishing         Husband   White   Male             0   \n",
       "2     Protective-serv         Husband   White   Male             0   \n",
       "3   Machine-op-inspct         Husband   Black   Male          7688   \n",
       "5       Other-service   Not-in-family   White   Male             0   \n",
       "\n",
       "   capital_loss  hours_per_week  native_country  wage_class  \n",
       "0             0              40   United-States           1  \n",
       "1             0              50   United-States           1  \n",
       "2             0              40   United-States           0  \n",
       "3             0              40   United-States           0  \n",
       "5             0              30   United-States           1  "
      ]
     },
     "execution_count": 158,
     "metadata": {},
     "output_type": "execute_result"
    }
   ],
   "source": [
    "test_set.head()"
   ]
  },
  {
   "cell_type": "markdown",
   "metadata": {},
   "source": [
    "# preprocessing"
   ]
  },
  {
   "cell_type": "code",
   "execution_count": 121,
   "metadata": {},
   "outputs": [
    {
     "data": {
      "text/plain": [
       "age               0\n",
       "workclass         0\n",
       "fnlwgt            0\n",
       "education         0\n",
       "education_num     0\n",
       "marital_status    0\n",
       "occupation        0\n",
       "relationship      0\n",
       "race              0\n",
       "sex               0\n",
       "capital_gain      0\n",
       "capital_loss      0\n",
       "hours_per_week    0\n",
       "native_country    0\n",
       "wage_class        0\n",
       "dtype: int64"
      ]
     },
     "execution_count": 121,
     "metadata": {},
     "output_type": "execute_result"
    }
   ],
   "source": [
    "test_set.isna().sum()"
   ]
  },
  {
   "cell_type": "code",
   "execution_count": 122,
   "metadata": {},
   "outputs": [
    {
     "data": {
      "text/plain": [
       "array([' <=50K', ' >50K'], dtype=object)"
      ]
     },
     "execution_count": 122,
     "metadata": {},
     "output_type": "execute_result"
    }
   ],
   "source": [
    "train_set.wage_class.unique()"
   ]
  },
  {
   "cell_type": "code",
   "execution_count": 123,
   "metadata": {},
   "outputs": [
    {
     "data": {
      "text/plain": [
       "array([' <=50K.', ' >50K.'], dtype=object)"
      ]
     },
     "execution_count": 123,
     "metadata": {},
     "output_type": "execute_result"
    }
   ],
   "source": [
    "test_set.wage_class.unique()"
   ]
  },
  {
   "cell_type": "code",
   "execution_count": 124,
   "metadata": {},
   "outputs": [],
   "source": [
    "train_set.wage_class = train_set.wage_class.map({' <=50K':1,' >50K':0})"
   ]
  },
  {
   "cell_type": "code",
   "execution_count": 125,
   "metadata": {},
   "outputs": [],
   "source": [
    "test_set.wage_class = test_set.wage_class.map({' <=50K.':1,' >50K.':0})"
   ]
  },
  {
   "cell_type": "code",
   "execution_count": 126,
   "metadata": {},
   "outputs": [
    {
     "data": {
      "text/plain": [
       "<matplotlib.axes._subplots.AxesSubplot at 0x19701e44940>"
      ]
     },
     "execution_count": 126,
     "metadata": {},
     "output_type": "execute_result"
    },
    {
     "data": {
      "image/png": "[encoded data removed]",
      "text/plain": [
       "<Figure size 432x288 with 1 Axes>"
      ]
     },
     "metadata": {},
     "output_type": "display_data"
    }
   ],
   "source": [
    "sns.distplot(train_set.age)"
   ]
  },
  {
   "cell_type": "code",
   "execution_count": 127,
   "metadata": {},
   "outputs": [
    {
     "data": {
      "text/plain": [
       "array([13,  9,  7, 14,  5, 10, 12, 11,  4, 16, 15,  3,  6,  2,  1,  8],\n",
       "      dtype=int64)"
      ]
     },
     "execution_count": 127,
     "metadata": {},
     "output_type": "execute_result"
    }
   ],
   "source": [
    "train_set.education_num.unique()"
   ]
  },
  {
   "cell_type": "code",
   "execution_count": 128,
   "metadata": {},
   "outputs": [
    {
     "data": {
      "text/plain": [
       "array([' Never-married', ' Married-civ-spouse', ' Widowed', ' Divorced',\n",
       "       ' Separated', ' Married-spouse-absent', ' Married-AF-spouse'],\n",
       "      dtype=object)"
      ]
     },
     "execution_count": 128,
     "metadata": {},
     "output_type": "execute_result"
    }
   ],
   "source": []
  },
  {
   "cell_type": "code",
   "execution_count": null,
   "metadata": {},
   "outputs": [],
   "source": [
    "train_set = train_set[train_set.occupation != ' ?' ]\n",
    "test_set = test_set[test_set.occupation != ' ?' ]"
   ]
  },
  {
   "cell_type": "code",
   "execution_count": 150,
   "metadata": {},
   "outputs": [],
   "source": [
    "train_set = train_set[train_set.native_country != ' ?' ]\n",
    "test_set = test_set[test_set.native_country != ' ?' ]"
   ]
  },
  {
   "cell_type": "code",
   "execution_count": 156,
   "metadata": {},
   "outputs": [],
   "source": [
    "train = pd.get_dummies(train_set, columns = ['workclass','marital_status','occupation', 'relationship', 'race', 'sex','native_country'] , prefix_sep = \"_\",drop_first = True)\n",
    "test  = pd.get_dummies(test_set, columns = ['workclass','marital_status','occupation', 'relationship', 'race', 'sex','native_country'] , prefix_sep = \"_\",drop_first = True)"
   ]
  },
  {
   "cell_type": "markdown",
   "metadata": {},
   "source": [
    "# Model "
   ]
  },
  {
   "cell_type": "code",
   "execution_count": 184,
   "metadata": {},
   "outputs": [],
   "source": [
    "X=train.drop(columns=['wage_class'])"
   ]
  },
  {
   "cell_type": "code",
   "execution_count": 185,
   "metadata": {},
   "outputs": [],
   "source": [
    "Y=train.iloc[:,6:7]"
   ]
  },
  {
   "cell_type": "code",
   "execution_count": 186,
   "metadata": {},
   "outputs": [],
   "source": [
    "from sklearn.model_selection import train_test_split\n",
    "train_x,test_x,train_y,test_y=train_test_split(X,Y,test_size=0.3,random_state=42)"
   ]
  },
  {
   "cell_type": "code",
   "execution_count": 187,
   "metadata": {},
   "outputs": [
    {
     "name": "stderr",
     "output_type": "stream",
     "text": [
      "C:\\Users\\ketan\\Anaconda3\\envs\\yourenvname\\lib\\site-packages\\sklearn\\preprocessing\\_label.py:235: DataConversionWarning: A column-vector y was passed when a 1d array was expected. Please change the shape of y to (n_samples, ), for example using ravel().\n",
      "  y = column_or_1d(y, warn=True)\n",
      "C:\\Users\\ketan\\Anaconda3\\envs\\yourenvname\\lib\\site-packages\\sklearn\\preprocessing\\_label.py:268: DataConversionWarning: A column-vector y was passed when a 1d array was expected. Please change the shape of y to (n_samples, ), for example using ravel().\n",
      "  y = column_or_1d(y, warn=True)\n"
     ]
    },
    {
     "data": {
      "text/plain": [
       "XGBClassifier(base_score=0.5, booster='gbtree', colsample_bylevel=1,\n",
       "              colsample_bynode=1, colsample_bytree=1, gamma=0,\n",
       "              learning_rate=0.1, max_delta_step=0, max_depth=3,\n",
       "              min_child_weight=1, missing=None, n_estimators=100, n_jobs=1,\n",
       "              nthread=None, objective='binary:logistic', random_state=0,\n",
       "              reg_alpha=0, reg_lambda=1, scale_pos_weight=1, seed=None,\n",
       "              silent=None, subsample=1, verbosity=1)"
      ]
     },
     "execution_count": 187,
     "metadata": {},
     "output_type": "execute_result"
    }
   ],
   "source": [
    "model = XGBClassifier(objective='binary:logistic')\n",
    "model.fit(train_x, train_y)"
   ]
  },
  {
   "cell_type": "code",
   "execution_count": 188,
   "metadata": {},
   "outputs": [
    {
     "data": {
      "text/plain": [
       "0.8628806896225074"
      ]
     },
     "execution_count": 188,
     "metadata": {},
     "output_type": "execute_result"
    }
   ],
   "source": [
    "y_pred = model.predict(train_x)\n",
    "predictions = [round(value) for value in y_pred]\n",
    "accuracy = accuracy_score(train_y,predictions)\n",
    "accuracy"
   ]
  },
  {
   "cell_type": "code",
   "execution_count": 189,
   "metadata": {},
   "outputs": [
    {
     "data": {
      "text/plain": [
       "0.8623052270969168"
      ]
     },
     "execution_count": 189,
     "metadata": {},
     "output_type": "execute_result"
    }
   ],
   "source": [
    "y_pred = model.predict(test_x)\n",
    "predictions = [round(value) for value in y_pred]\n",
    "accuracy = accuracy_score(test_y,predictions)\n",
    "accuracy"
   ]
  },
  {
   "cell_type": "code",
   "execution_count": 192,
   "metadata": {},
   "outputs": [],
   "source": [
    "from sklearn.model_selection import GridSearchCV"
   ]
  },
  {
   "cell_type": "code",
   "execution_count": 196,
   "metadata": {},
   "outputs": [],
   "source": [
    "param_grid={\n",
    "   \n",
    "    ' learning_rate':[0.1,0.01,0.02],\n",
    "    'max_depth': [3,5],\n",
    "    'n_estimators':[100,200]\n",
    "    \n",
    "}"
   ]
  },
  {
   "cell_type": "code",
   "execution_count": 197,
   "metadata": {},
   "outputs": [],
   "source": [
    "grid= GridSearchCV(XGBClassifier(objective='binary:logistic'),param_grid, verbose=3)"
   ]
  },
  {
   "cell_type": "code",
   "execution_count": 198,
   "metadata": {},
   "outputs": [
    {
     "name": "stdout",
     "output_type": "stream",
     "text": [
      "Fitting 5 folds for each of 12 candidates, totalling 60 fits\n",
      "[CV]  learning_rate=0.1, max_depth=3, n_estimators=100 ...............\n"
     ]
    },
    {
     "name": "stderr",
     "output_type": "stream",
     "text": [
      "[Parallel(n_jobs=1)]: Using backend SequentialBackend with 1 concurrent workers.\n",
      "C:\\Users\\ketan\\Anaconda3\\envs\\yourenvname\\lib\\site-packages\\sklearn\\preprocessing\\_label.py:235: DataConversionWarning: A column-vector y was passed when a 1d array was expected. Please change the shape of y to (n_samples, ), for example using ravel().\n",
      "  y = column_or_1d(y, warn=True)\n",
      "C:\\Users\\ketan\\Anaconda3\\envs\\yourenvname\\lib\\site-packages\\sklearn\\preprocessing\\_label.py:268: DataConversionWarning: A column-vector y was passed when a 1d array was expected. Please change the shape of y to (n_samples, ), for example using ravel().\n",
      "  y = column_or_1d(y, warn=True)\n"
     ]
    },
    {
     "name": "stdout",
     "output_type": "stream",
     "text": [
      "[CV]   learning_rate=0.1, max_depth=3, n_estimators=100, score=0.865, total=   5.2s\n",
      "[CV]  learning_rate=0.1, max_depth=3, n_estimators=100 ...............\n"
     ]
    },
    {
     "name": "stderr",
     "output_type": "stream",
     "text": [
      "[Parallel(n_jobs=1)]: Done   1 out of   1 | elapsed:    5.1s remaining:    0.0s\n"
     ]
    },
    {
     "name": "stdout",
     "output_type": "stream",
     "text": [
      "[CV]   learning_rate=0.1, max_depth=3, n_estimators=100, score=0.867, total=   4.6s\n",
      "[CV]  learning_rate=0.1, max_depth=3, n_estimators=100 ...............\n"
     ]
    },
    {
     "name": "stderr",
     "output_type": "stream",
     "text": [
      "[Parallel(n_jobs=1)]: Done   2 out of   2 | elapsed:    9.8s remaining:    0.0s\n"
     ]
    },
    {
     "name": "stdout",
     "output_type": "stream",
     "text": [
      "[CV]   learning_rate=0.1, max_depth=3, n_estimators=100, score=0.853, total=   4.6s\n",
      "[CV]  learning_rate=0.1, max_depth=3, n_estimators=100 ...............\n",
      "[CV]   learning_rate=0.1, max_depth=3, n_estimators=100, score=0.854, total=   5.4s\n",
      "[CV]  learning_rate=0.1, max_depth=3, n_estimators=100 ...............\n",
      "[CV]   learning_rate=0.1, max_depth=3, n_estimators=100, score=0.859, total=   6.2s\n",
      "[CV]  learning_rate=0.1, max_depth=3, n_estimators=200 ...............\n",
      "[CV]   learning_rate=0.1, max_depth=3, n_estimators=200, score=0.872, total=  10.7s\n",
      "[CV]  learning_rate=0.1, max_depth=3, n_estimators=200 ...............\n",
      "[CV]   learning_rate=0.1, max_depth=3, n_estimators=200, score=0.870, total=  10.7s\n",
      "[CV]  learning_rate=0.1, max_depth=3, n_estimators=200 ...............\n",
      "[CV]   learning_rate=0.1, max_depth=3, n_estimators=200, score=0.859, total=  11.8s\n",
      "[CV]  learning_rate=0.1, max_depth=3, n_estimators=200 ...............\n",
      "[CV]   learning_rate=0.1, max_depth=3, n_estimators=200, score=0.859, total=  12.5s\n",
      "[CV]  learning_rate=0.1, max_depth=3, n_estimators=200 ...............\n",
      "[CV]   learning_rate=0.1, max_depth=3, n_estimators=200, score=0.867, total=  12.6s\n",
      "[CV]  learning_rate=0.1, max_depth=5, n_estimators=100 ...............\n",
      "[CV]   learning_rate=0.1, max_depth=5, n_estimators=100, score=0.872, total=  13.7s\n",
      "[CV]  learning_rate=0.1, max_depth=5, n_estimators=100 ...............\n",
      "[CV]   learning_rate=0.1, max_depth=5, n_estimators=100, score=0.874, total=  13.7s\n",
      "[CV]  learning_rate=0.1, max_depth=5, n_estimators=100 ...............\n",
      "[CV]   learning_rate=0.1, max_depth=5, n_estimators=100, score=0.859, total=  13.6s\n",
      "[CV]  learning_rate=0.1, max_depth=5, n_estimators=100 ...............\n",
      "[CV]   learning_rate=0.1, max_depth=5, n_estimators=100, score=0.860, total=  13.6s\n",
      "[CV]  learning_rate=0.1, max_depth=5, n_estimators=100 ...............\n",
      "[CV]   learning_rate=0.1, max_depth=5, n_estimators=100, score=0.869, total=  13.7s\n",
      "[CV]  learning_rate=0.1, max_depth=5, n_estimators=200 ...............\n",
      "[CV]   learning_rate=0.1, max_depth=5, n_estimators=200, score=0.871, total=  26.8s\n",
      "[CV]  learning_rate=0.1, max_depth=5, n_estimators=200 ...............\n",
      "[CV]   learning_rate=0.1, max_depth=5, n_estimators=200, score=0.874, total=  27.1s\n",
      "[CV]  learning_rate=0.1, max_depth=5, n_estimators=200 ...............\n",
      "[CV]   learning_rate=0.1, max_depth=5, n_estimators=200, score=0.861, total=  27.4s\n",
      "[CV]  learning_rate=0.1, max_depth=5, n_estimators=200 ...............\n",
      "[CV]   learning_rate=0.1, max_depth=5, n_estimators=200, score=0.862, total=  27.8s\n",
      "[CV]  learning_rate=0.1, max_depth=5, n_estimators=200 ...............\n",
      "[CV]   learning_rate=0.1, max_depth=5, n_estimators=200, score=0.867, total=  27.0s\n",
      "[CV]  learning_rate=0.01, max_depth=3, n_estimators=100 ..............\n",
      "[CV]   learning_rate=0.01, max_depth=3, n_estimators=100, score=0.865, total=   9.6s\n",
      "[CV]  learning_rate=0.01, max_depth=3, n_estimators=100 ..............\n",
      "[CV]   learning_rate=0.01, max_depth=3, n_estimators=100, score=0.867, total=   9.6s\n",
      "[CV]  learning_rate=0.01, max_depth=3, n_estimators=100 ..............\n",
      "[CV]   learning_rate=0.01, max_depth=3, n_estimators=100, score=0.853, total=   9.6s\n",
      "[CV]  learning_rate=0.01, max_depth=3, n_estimators=100 ..............\n",
      "[CV]   learning_rate=0.01, max_depth=3, n_estimators=100, score=0.854, total=   9.7s\n",
      "[CV]  learning_rate=0.01, max_depth=3, n_estimators=100 ..............\n",
      "[CV]   learning_rate=0.01, max_depth=3, n_estimators=100, score=0.859, total=   9.7s\n",
      "[CV]  learning_rate=0.01, max_depth=3, n_estimators=200 ..............\n",
      "[CV]   learning_rate=0.01, max_depth=3, n_estimators=200, score=0.872, total=  19.2s\n",
      "[CV]  learning_rate=0.01, max_depth=3, n_estimators=200 ..............\n",
      "[CV]   learning_rate=0.01, max_depth=3, n_estimators=200, score=0.870, total=  18.9s\n",
      "[CV]  learning_rate=0.01, max_depth=3, n_estimators=200 ..............\n",
      "[CV]   learning_rate=0.01, max_depth=3, n_estimators=200, score=0.859, total=  18.9s\n",
      "[CV]  learning_rate=0.01, max_depth=3, n_estimators=200 ..............\n",
      "[CV]   learning_rate=0.01, max_depth=3, n_estimators=200, score=0.859, total=   9.0s\n",
      "[CV]  learning_rate=0.01, max_depth=3, n_estimators=200 ..............\n",
      "[CV]   learning_rate=0.01, max_depth=3, n_estimators=200, score=0.867, total=   9.9s\n",
      "[CV]  learning_rate=0.01, max_depth=5, n_estimators=100 ..............\n",
      "[CV]   learning_rate=0.01, max_depth=5, n_estimators=100, score=0.872, total=   8.2s\n",
      "[CV]  learning_rate=0.01, max_depth=5, n_estimators=100 ..............\n",
      "[CV]   learning_rate=0.01, max_depth=5, n_estimators=100, score=0.874, total=   9.0s\n",
      "[CV]  learning_rate=0.01, max_depth=5, n_estimators=100 ..............\n",
      "[CV]   learning_rate=0.01, max_depth=5, n_estimators=100, score=0.859, total=   9.0s\n",
      "[CV]  learning_rate=0.01, max_depth=5, n_estimators=100 ..............\n",
      "[CV]   learning_rate=0.01, max_depth=5, n_estimators=100, score=0.860, total=  13.6s\n",
      "[CV]  learning_rate=0.01, max_depth=5, n_estimators=100 ..............\n",
      "[CV]   learning_rate=0.01, max_depth=5, n_estimators=100, score=0.869, total=  13.8s\n",
      "[CV]  learning_rate=0.01, max_depth=5, n_estimators=200 ..............\n",
      "[CV]   learning_rate=0.01, max_depth=5, n_estimators=200, score=0.871, total=  26.9s\n",
      "[CV]  learning_rate=0.01, max_depth=5, n_estimators=200 ..............\n",
      "[CV]   learning_rate=0.01, max_depth=5, n_estimators=200, score=0.874, total=  27.0s\n",
      "[CV]  learning_rate=0.01, max_depth=5, n_estimators=200 ..............\n",
      "[CV]   learning_rate=0.01, max_depth=5, n_estimators=200, score=0.861, total=  26.9s\n",
      "[CV]  learning_rate=0.01, max_depth=5, n_estimators=200 ..............\n",
      "[CV]   learning_rate=0.01, max_depth=5, n_estimators=200, score=0.862, total=  26.9s\n",
      "[CV]  learning_rate=0.01, max_depth=5, n_estimators=200 ..............\n",
      "[CV]   learning_rate=0.01, max_depth=5, n_estimators=200, score=0.867, total=  27.1s\n",
      "[CV]  learning_rate=0.02, max_depth=3, n_estimators=100 ..............\n",
      "[CV]   learning_rate=0.02, max_depth=3, n_estimators=100, score=0.865, total=   9.6s\n",
      "[CV]  learning_rate=0.02, max_depth=3, n_estimators=100 ..............\n",
      "[CV]   learning_rate=0.02, max_depth=3, n_estimators=100, score=0.867, total=   9.6s\n",
      "[CV]  learning_rate=0.02, max_depth=3, n_estimators=100 ..............\n",
      "[CV]   learning_rate=0.02, max_depth=3, n_estimators=100, score=0.853, total=   9.6s\n",
      "[CV]  learning_rate=0.02, max_depth=3, n_estimators=100 ..............\n",
      "[CV]   learning_rate=0.02, max_depth=3, n_estimators=100, score=0.854, total=   9.6s\n",
      "[CV]  learning_rate=0.02, max_depth=3, n_estimators=100 ..............\n",
      "[CV]   learning_rate=0.02, max_depth=3, n_estimators=100, score=0.859, total=   9.6s\n",
      "[CV]  learning_rate=0.02, max_depth=3, n_estimators=200 ..............\n",
      "[CV]   learning_rate=0.02, max_depth=3, n_estimators=200, score=0.872, total=  18.9s\n",
      "[CV]  learning_rate=0.02, max_depth=3, n_estimators=200 ..............\n",
      "[CV]   learning_rate=0.02, max_depth=3, n_estimators=200, score=0.870, total=  18.9s\n",
      "[CV]  learning_rate=0.02, max_depth=3, n_estimators=200 ..............\n",
      "[CV]   learning_rate=0.02, max_depth=3, n_estimators=200, score=0.859, total=  18.2s\n",
      "[CV]  learning_rate=0.02, max_depth=3, n_estimators=200 ..............\n",
      "[CV]   learning_rate=0.02, max_depth=3, n_estimators=200, score=0.859, total=  10.1s\n",
      "[CV]  learning_rate=0.02, max_depth=3, n_estimators=200 ..............\n",
      "[CV]   learning_rate=0.02, max_depth=3, n_estimators=200, score=0.867, total=   8.5s\n",
      "[CV]  learning_rate=0.02, max_depth=5, n_estimators=100 ..............\n",
      "[CV]   learning_rate=0.02, max_depth=5, n_estimators=100, score=0.872, total=   7.8s\n",
      "[CV]  learning_rate=0.02, max_depth=5, n_estimators=100 ..............\n",
      "[CV]   learning_rate=0.02, max_depth=5, n_estimators=100, score=0.874, total=   7.0s\n",
      "[CV]  learning_rate=0.02, max_depth=5, n_estimators=100 ..............\n",
      "[CV]   learning_rate=0.02, max_depth=5, n_estimators=100, score=0.859, total=   7.9s\n",
      "[CV]  learning_rate=0.02, max_depth=5, n_estimators=100 ..............\n",
      "[CV]   learning_rate=0.02, max_depth=5, n_estimators=100, score=0.860, total=   7.9s\n",
      "[CV]  learning_rate=0.02, max_depth=5, n_estimators=100 ..............\n",
      "[CV]   learning_rate=0.02, max_depth=5, n_estimators=100, score=0.869, total=   7.0s\n",
      "[CV]  learning_rate=0.02, max_depth=5, n_estimators=200 ..............\n"
     ]
    },
    {
     "name": "stdout",
     "output_type": "stream",
     "text": [
      "[CV]   learning_rate=0.02, max_depth=5, n_estimators=200, score=0.871, total=  14.9s\n",
      "[CV]  learning_rate=0.02, max_depth=5, n_estimators=200 ..............\n",
      "[CV]   learning_rate=0.02, max_depth=5, n_estimators=200, score=0.874, total=  25.5s\n",
      "[CV]  learning_rate=0.02, max_depth=5, n_estimators=200 ..............\n",
      "[CV]   learning_rate=0.02, max_depth=5, n_estimators=200, score=0.861, total=  25.5s\n",
      "[CV]  learning_rate=0.02, max_depth=5, n_estimators=200 ..............\n",
      "[CV]   learning_rate=0.02, max_depth=5, n_estimators=200, score=0.862, total=  25.5s\n",
      "[CV]  learning_rate=0.02, max_depth=5, n_estimators=200 ..............\n",
      "[CV]   learning_rate=0.02, max_depth=5, n_estimators=200, score=0.867, total=  22.3s\n"
     ]
    },
    {
     "name": "stderr",
     "output_type": "stream",
     "text": [
      "[Parallel(n_jobs=1)]: Done  60 out of  60 | elapsed: 14.6min finished\n"
     ]
    },
    {
     "data": {
      "text/plain": [
       "GridSearchCV(cv=None, error_score=nan,\n",
       "             estimator=XGBClassifier(base_score=0.5, booster='gbtree',\n",
       "                                     colsample_bylevel=1, colsample_bynode=1,\n",
       "                                     colsample_bytree=1, gamma=0,\n",
       "                                     learning_rate=0.1, max_delta_step=0,\n",
       "                                     max_depth=3, min_child_weight=1,\n",
       "                                     missing=None, n_estimators=100, n_jobs=1,\n",
       "                                     nthread=None, objective='binary:logistic',\n",
       "                                     random_state=0, reg_alpha=0, reg_lambda=1,\n",
       "                                     scale_pos_weight=1, seed=None, silent=None,\n",
       "                                     subsample=1, verbosity=1),\n",
       "             iid='deprecated', n_jobs=None,\n",
       "             param_grid={' learning_rate': [0.1, 0.01, 0.02],\n",
       "                         'max_depth': [3, 5], 'n_estimators': [100, 200]},\n",
       "             pre_dispatch='2*n_jobs', refit=True, return_train_score=False,\n",
       "             scoring=None, verbose=3)"
      ]
     },
     "execution_count": 198,
     "metadata": {},
     "output_type": "execute_result"
    }
   ],
   "source": [
    "grid.fit(train_x,train_y)"
   ]
  },
  {
   "cell_type": "code",
   "execution_count": 199,
   "metadata": {},
   "outputs": [
    {
     "data": {
      "text/plain": [
       "{' learning_rate': 0.1, 'max_depth': 5, 'n_estimators': 100}"
      ]
     },
     "execution_count": 199,
     "metadata": {},
     "output_type": "execute_result"
    }
   ],
   "source": [
    "grid.best_params_"
   ]
  },
  {
   "cell_type": "code",
   "execution_count": 200,
   "metadata": {},
   "outputs": [
    {
     "data": {
      "text/plain": [
       "XGBClassifier(base_score=0.5, booster='gbtree', colsample_bylevel=1,\n",
       "              colsample_bynode=1, colsample_bytree=1, gamma=0,\n",
       "              learning_rate=0.1, max_delta_step=0, max_depth=5,\n",
       "              min_child_weight=1, missing=None, n_estimators=100, n_jobs=1,\n",
       "              nthread=None, objective='binary:logistic', random_state=0,\n",
       "              reg_alpha=0, reg_lambda=1, scale_pos_weight=1, seed=None,\n",
       "              silent=None, subsample=1, verbosity=1)"
      ]
     },
     "execution_count": 200,
     "metadata": {},
     "output_type": "execute_result"
    }
   ],
   "source": [
    "new_model=XGBClassifier(learning_rate= 0.1 , max_depth= 5, n_estimators= 100)\n",
    "new_model.fit(train_x, train_y)"
   ]
  },
  {
   "cell_type": "code",
   "execution_count": 201,
   "metadata": {},
   "outputs": [
    {
     "data": {
      "text/plain": [
       "0.8694883412531772"
      ]
     },
     "execution_count": 201,
     "metadata": {},
     "output_type": "execute_result"
    }
   ],
   "source": [
    "y_pred_new = new_model.predict(test_x)\n",
    "predictions_new = [round(value) for value in y_pred_new]\n",
    "accuracy_new = accuracy_score(test_y,predictions_new)\n",
    "accuracy_new\n"
   ]
  },
  {
   "cell_type": "code",
   "execution_count": null,
   "metadata": {},
   "outputs": [],
   "source": []
  }
 ],
 "metadata": {
  "kernelspec": {
   "display_name": "Python 3",
   "language": "python",
   "name": "python3"
  },
  "language_info": {
   "codemirror_mode": {
    "name": "ipython",
    "version": 3
   },
   "file_extension": ".py",
   "mimetype": "text/x-python",
   "name": "python",
   "nbconvert_exporter": "python",
   "pygments_lexer": "ipython3",
   "version": "3.6.10"
  }
 },
 "nbformat": 4,
 "nbformat_minor": 4
}
